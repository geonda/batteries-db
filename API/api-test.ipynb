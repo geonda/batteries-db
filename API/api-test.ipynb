{
 "cells": [
  {
   "cell_type": "code",
   "execution_count": 1,
   "metadata": {},
   "outputs": [],
   "source": [
    "from apitest import interface"
   ]
  },
  {
   "cell_type": "code",
   "execution_count": 9,
   "metadata": {},
   "outputs": [],
   "source": [
    "user='username'\n",
    "api='yourapikey'"
   ]
  },
  {
   "cell_type": "code",
   "execution_count": 10,
   "metadata": {},
   "outputs": [],
   "source": [
    "testspace=interface(user=user,api_key=api)"
   ]
  },
  {
   "cell_type": "code",
   "execution_count": 11,
   "metadata": {},
   "outputs": [
    {
     "name": "stdout",
     "output_type": "stream",
     "text": [
      "Materials retrieved successfully:\n",
      "ID: 1, Name: NI, Quantity: 1\n",
      "ID: 2, Name: LiNiO2, Quantity: 1\n",
      "ID: 3, Name: LiNiO3, Quantity: 1\n",
      "ID: 4, Name: LiNiO3, Quantity: 1\n",
      "ID: 5, Name: LiNiO3, Quantity: 1\n",
      "ID: 6, Name: LiNiO3, Quantity: 1\n",
      "ID: 7, Name: LiNiO3, Quantity: 1\n",
      "ID: 8, Name: LiNiO3, Quantity: 1\n"
     ]
    }
   ],
   "source": [
    "testspace.get_materials()"
   ]
  },
  {
   "cell_type": "code",
   "execution_count": 12,
   "metadata": {},
   "outputs": [
    {
     "name": "stdout",
     "output_type": "stream",
     "text": [
      "Material added successfully: {'message': 'Material added successfully', 'id': 9}\n"
     ]
    }
   ],
   "source": [
    "testspace.add_material(data=dict(\n",
    "    name='LiNiO3',\n",
    "    description='Test',\n",
    "    quantity=1,\n",
    "    filename='/home/geonda/local/flask/uploads/S0304399100001224.txt',\n",
    "))"
   ]
  },
  {
   "cell_type": "code",
   "execution_count": 11,
   "metadata": {},
   "outputs": [
    {
     "name": "stdout",
     "output_type": "stream",
     "text": [
      "File downloaded successfully: S0304399100001224.txt\n"
     ]
    }
   ],
   "source": [
    "testspace.download_structure(material_id=2)"
   ]
  },
  {
   "cell_type": "code",
   "execution_count": 13,
   "metadata": {},
   "outputs": [
    {
     "name": "stdout",
     "output_type": "stream",
     "text": [
      "File downloaded successfully: S0304399100001224.txt\n"
     ]
    },
    {
     "data": {
      "text/plain": [
       "b\"S. K\\xc3\\xb6stlmeier,\\r\\nSuccess and limits of common final-state approximations,\\r\\nUltramicroscopy,\\r\\nVolume 86, Issues 3\\xe2\\x80\\x934,\\r\\n2001,\\r\\nPages 319-324,\\r\\nISSN 0304-3991,\\r\\nhttps://doi.org/10.1016/S0304-3991(00)00122-4.\\r\\n(https://www.sciencedirect.com/science/article/pii/S0304399100001224)\\r\\nAbstract: Several current models for the treatment of final-state effects in the calculation of electron energy loss near edge structures are studied. Ab-initio calculations for the corresponding electronic reference configurations were carried out for the atoms Li to Kr. Edge onset energies can be directly obtained as energy differences between ground and excited state only if the excitation is explicitly accounted for; implicit schemes such as the Z+1 or Slater's transition state approximation yield satisfactory results only for the K-edge of atoms up to phosphorous. Concerning the intensity modulation of the edge, however, the Z+1 approximation exhibits the closest overall agreement with the exact K-shell excitation. Other approaches model the electron\\xe2\\x80\\x93hole interaction more effectively for the d-elements, but show pronounced, non-continuous discrepancies for the noble gases and the early p-elements.\\r\\nKeywords: Electron energy loss spectroscopy; Core-hole effects; ELNES; XANES\\r\\n\""
      ]
     },
     "execution_count": 13,
     "metadata": {},
     "output_type": "execute_result"
    }
   ],
   "source": [
    "testspace.get_structure(material_id=2)"
   ]
  },
  {
   "cell_type": "code",
   "execution_count": null,
   "metadata": {},
   "outputs": [],
   "source": []
  }
 ],
 "metadata": {
  "kernelspec": {
   "display_name": "db",
   "language": "python",
   "name": "python3"
  },
  "language_info": {
   "codemirror_mode": {
    "name": "ipython",
    "version": 3
   },
   "file_extension": ".py",
   "mimetype": "text/x-python",
   "name": "python",
   "nbconvert_exporter": "python",
   "pygments_lexer": "ipython3",
   "version": "3.12.4"
  }
 },
 "nbformat": 4,
 "nbformat_minor": 2
}
